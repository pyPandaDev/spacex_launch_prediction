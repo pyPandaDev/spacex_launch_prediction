{
 "cells": [
  {
   "cell_type": "markdown",
   "metadata": {},
   "source": [
    "# 🔍 Model Explainability with SHAP\n",
    "\n",
    "## Objectives:\n",
    "1. Load the trained model\n",
    "2. Generate SHAP explanations\n",
    "3. Visualize feature importance\n",
    "4. Analyze individual predictions\n",
    "5. Create summary plots"
   ]
  },
  {
   "cell_type": "code",
   "execution_count": null,
   "metadata": {},
   "outputs": [],
   "source": [
    "# Import libraries\n",
    "import sys\n",
    "sys.path.append('../src')\n",
    "\n",
    "import pandas as pd\n",
    "import numpy as np\n",
    "import matplotlib.pyplot as plt\n",
    "import seaborn as sns\n",
    "import shap\n",
    "import joblib\n",
    "import warnings\n",
    "warnings.filterwarnings('ignore')\n",
    "\n",
    "from data_preprocessing import prepare_for_modeling, get_feature_target_split\n",
    "from model_training import split_data\n",
    "\n",
    "# Initialize SHAP JavaScript for interactive plots\n",
    "shap.initjs()\n",
    "\n",
    "print(\"✓ Libraries imported successfully\")"
   ]
  },
  {
   "cell_type": "markdown",
   "metadata": {},
   "source": [
    "## 1. Load Model and Data"
   ]
  },
  {
   "cell_type": "code",
   "execution_count": null,
   "metadata": {},
   "outputs": [],
   "source": [
    "# Load the best model\n",
    "model = joblib.load('../models/best_model.pkl')\n",
    "feature_names = joblib.load('../models/feature_names.pkl')\n",
    "metadata = joblib.load('../models/model_metadata.pkl')\n",
    "\n",
    "print(f\"Model: {metadata['model_name']}\")\n",
    "print(f\"Accuracy: {metadata['accuracy']:.4f}\")\n",
    "print(f\"ROC-AUC: {metadata['roc_auc']:.4f}\")"
   ]
  },
  {
   "cell_type": "code",
   "execution_count": null,
   "metadata": {},
   "outputs": [],
   "source": [
    "# Load and prepare data\n",
    "df = pd.read_csv('../data/spacex_cleaned.csv')\n",
    "df_model = prepare_for_modeling(df)\n",
    "X, y = get_feature_target_split(df_model)\n",
    "\n",
    "# Split data\n",
    "X_train, X_test, y_train, y_test = split_data(X, y, test_size=0.2, random_state=42)\n",
    "\n",
    "print(f\"Training samples: {len(X_train)}\")\n",
    "print(f\"Test samples: {len(X_test)}\")"
   ]
  },
  {
   "cell_type": "markdown",
   "metadata": {},
   "source": [
    "## 2. Create SHAP Explainer"
   ]
  },
  {
   "cell_type": "code",
   "execution_count": null,
   "metadata": {},
   "outputs": [],
   "source": [
    "# Create SHAP explainer\n",
    "print(\"Creating SHAP explainer...\")\n",
    "explainer = shap.TreeExplainer(model)\n",
    "print(\"✓ Explainer created\")"
   ]
  },
  {
   "cell_type": "code",
   "execution_count": null,
   "metadata": {},
   "outputs": [],
   "source": [
    "# Calculate SHAP values for test set\n",
    "print(\"Calculating SHAP values...\")\n",
    "shap_values = explainer.shap_values(X_test)\n",
    "print(\"✓ SHAP values calculated\")"
   ]
  },
  {
   "cell_type": "markdown",
   "metadata": {},
   "source": [
    "## 3. SHAP Summary Plots"
   ]
  },
  {
   "cell_type": "code",
   "execution_count": null,
   "metadata": {},
   "outputs": [],
   "source": [
    "# Summary plot (bar)\n",
    "plt.figure(figsize=(10, 8))\n",
    "shap.summary_plot(shap_values, X_test, plot_type=\"bar\", show=False)\n",
    "plt.title('SHAP Feature Importance', fontsize=14, fontweight='bold')\n",
    "plt.tight_layout()\n",
    "plt.show()"
   ]
  },
  {
   "cell_type": "code",
   "execution_count": null,
   "metadata": {},
   "outputs": [],
   "source": [
    "# Summary plot (beeswarm)\n",
    "plt.figure(figsize=(10, 8))\n",
    "shap.summary_plot(shap_values, X_test, show=False)\n",
    "plt.title('SHAP Summary Plot - Feature Impact on Predictions', fontsize=14, fontweight='bold')\n",
    "plt.tight_layout()\n",
    "plt.show()"
   ]
  },
  {
   "cell_type": "markdown",
   "metadata": {},
   "source": [
    "## 4. Individual Feature Analysis"
   ]
  },
  {
   "cell_type": "code",
   "execution_count": null,
   "metadata": {},
   "outputs": [],
   "source": [
    "# Top features\n",
    "feature_importance = np.abs(shap_values).mean(axis=0)\n",
    "top_features_idx = np.argsort(feature_importance)[::-1][:5]\n",
    "top_features = X_test.columns[top_features_idx]\n",
    "\n",
    "print(\"Top 5 Most Important Features:\")\n",
    "for i, feat in enumerate(top_features, 1):\n",
    "    print(f\"{i}. {feat}: {feature_importance[X_test.columns.get_loc(feat)]:.4f}\")"
   ]
  },
  {
   "cell_type": "code",
   "execution_count": null,
   "metadata": {},
   "outputs": [],
   "source": [
    "# Dependence plots for top features\n",
    "fig, axes = plt.subplots(2, 3, figsize=(18, 10))\n",
    "axes = axes.ravel()\n",
    "\n",
    "for i, feat in enumerate(top_features):\n",
    "    shap.dependence_plot(feat, shap_values, X_test, ax=axes[i], show=False)\n",
    "    axes[i].set_title(f'Dependence Plot: {feat}')\n",
    "\n",
    "# Hide the 6th subplot\n",
    "axes[5].axis('off')\n",
    "\n",
    "plt.tight_layout()\n",
    "plt.show()"
   ]
  },
  {
   "cell_type": "markdown",
   "metadata": {},
   "source": [
    "## 5. Individual Prediction Explanations"
   ]
  },
  {
   "cell_type": "code",
   "execution_count": null,
   "metadata": {},
   "outputs": [],
   "source": [
    "# Explain a successful prediction\n",
    "success_idx = y_test[y_test == 1].index[0]\n",
    "sample_idx = X_test.index.get_loc(success_idx)\n",
    "\n",
    "print(f\"Explaining successful launch prediction (Index: {success_idx})\")\n",
    "print(f\"\\nFeature values:\")\n",
    "print(X_test.iloc[sample_idx])\n",
    "print(f\"\\nActual: Success\")\n",
    "print(f\"Predicted: {'Success' if model.predict(X_test.iloc[[sample_idx]])[0] == 1 else 'Failure'}\")\n",
    "print(f\"Probability: {model.predict_proba(X_test.iloc[[sample_idx]])[0][1]:.2%}\")"
   ]
  },
  {
   "cell_type": "code",
   "execution_count": null,
   "metadata": {},
   "outputs": [],
   "source": [
    "# Force plot for successful prediction\n",
    "shap.force_plot(explainer.expected_value, shap_values[sample_idx], X_test.iloc[sample_idx], matplotlib=True)\n",
    "plt.title('SHAP Force Plot - Successful Launch')\n",
    "plt.tight_layout()\n",
    "plt.show()"
   ]
  },
  {
   "cell_type": "code",
   "execution_count": null,
   "metadata": {},
   "outputs": [],
   "source": [
    "# Explain a failed prediction (if any)\n",
    "if (y_test == 0).sum() > 0:\n",
    "    failure_idx = y_test[y_test == 0].index[0]\n",
    "    sample_idx_fail = X_test.index.get_loc(failure_idx)\n",
    "    \n",
    "    print(f\"Explaining failed launch prediction (Index: {failure_idx})\")\n",
    "    print(f\"\\nFeature values:\")\n",
    "    print(X_test.iloc[sample_idx_fail])\n",
    "    print(f\"\\nActual: Failure\")\n",
    "    print(f\"Predicted: {'Success' if model.predict(X_test.iloc[[sample_idx_fail]])[0] == 1 else 'Failure'}\")\n",
    "    print(f\"Probability: {model.predict_proba(X_test.iloc[[sample_idx_fail]])[0][1]:.2%}\")\n",
    "    \n",
    "    # Force plot\n",
    "    shap.force_plot(explainer.expected_value, shap_values[sample_idx_fail], \n",
    "                    X_test.iloc[sample_idx_fail], matplotlib=True)\n",
    "    plt.title('SHAP Force Plot - Failed Launch')\n",
    "    plt.tight_layout()\n",
    "    plt.show()"
   ]
  },
  {
   "cell_type": "markdown",
   "metadata": {},
   "source": [
    "## 6. Waterfall Plots"
   ]
  },
  {
   "cell_type": "code",
   "execution_count": null,
   "metadata": {},
   "outputs": [],
   "source": [
    "# Waterfall plot for a single prediction\n",
    "shap.waterfall_plot(shap.Explanation(values=shap_values[sample_idx], \n",
    "                                      base_values=explainer.expected_value,\n",
    "                                      data=X_test.iloc[sample_idx],\n",
    "                                      feature_names=X_test.columns.tolist()))"
   ]
  },
  {
   "cell_type": "markdown",
   "metadata": {},
   "source": [
    "## 7. Save SHAP Values"
   ]
  },
  {
   "cell_type": "code",
   "execution_count": null,
   "metadata": {},
   "outputs": [],
   "source": [
    "# Save SHAP values for future use\n",
    "shap_data = {\n",
    "    'shap_values': shap_values,\n",
    "    'expected_value': explainer.expected_value,\n",
    "    'feature_names': X_test.columns.tolist()\n",
    "}\n",
    "\n",
    "joblib.dump(shap_data, '../models/shap_values.pkl')\n",
    "print(\"✓ SHAP values saved to ../models/shap_values.pkl\")"
   ]
  },
  {
   "cell_type": "markdown",
   "metadata": {},
   "source": [
    "## 8. Key Insights\n",
    "\n",
    "### From SHAP Analysis:\n",
    "- Most important features identified\n",
    "- Feature interactions visualized\n",
    "- Individual predictions explained\n",
    "- Model behavior is interpretable and transparent"
   ]
  }
 ],
 "metadata": {
  "kernelspec": {
   "display_name": "venv",
   "language": "python",
   "name": "python3"
  },
  "language_info": {
   "codemirror_mode": {
    "name": "ipython",
    "version": 3
   },
   "file_extension": ".py",
   "mimetype": "text/x-python",
   "name": "python",
   "nbconvert_exporter": "python",
   "pygments_lexer": "ipython3",
   "version": "3.13.5"
  }
 },
 "nbformat": 4,
 "nbformat_minor": 4
}
